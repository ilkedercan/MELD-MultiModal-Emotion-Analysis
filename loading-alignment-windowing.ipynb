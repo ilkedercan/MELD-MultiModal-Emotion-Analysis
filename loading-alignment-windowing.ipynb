{
  "nbformat": 4,
  "nbformat_minor": 0,
  "metadata": {
    "colab": {
      "provenance": []
    },
    "kernelspec": {
      "name": "python3",
      "display_name": "Python 3"
    },
    "language_info": {
      "name": "python"
    }
  },
  "cells": [
    {
      "cell_type": "markdown",
      "source": [
        "# VERİ YÜKLEME VE HİZALAMA"
      ],
      "metadata": {
        "id": "EI__KHtqVBTj"
      }
    },
    {
      "cell_type": "code",
      "source": [
        "from google.colab import drive\n",
        "drive.mount('/content/drive')"
      ],
      "metadata": {
        "colab": {
          "base_uri": "https://localhost:8080/"
        },
        "id": "GlfdHNBYVHkm",
        "outputId": "de2c02b1-c47a-4b2e-a4ad-50ad3c500594"
      },
      "execution_count": 1,
      "outputs": [
        {
          "output_type": "stream",
          "name": "stdout",
          "text": [
            "Mounted at /content/drive\n"
          ]
        }
      ]
    },
    {
      "cell_type": "code",
      "source": [
        "import tensorflow as tf\n",
        "from tensorflow.keras.models import Model\n",
        "from tensorflow.keras.layers import Input, Dense, Dropout, BatchNormalization, Bidirectional, LSTM\n",
        "import tensorflow as tf\n",
        "from tensorflow.keras.models import Model\n",
        "from tensorflow.keras.layers import Input, Dense, Dropout, BatchNormalization\n",
        "from tensorflow.keras.callbacks import EarlyStopping, ReduceLROnPlateau\n",
        "import numpy as np\n",
        "import tensorflow as tf\n",
        "from tensorflow.keras.models import Model\n",
        "from tensorflow.keras.layers import Input, Dense, Dropout, BatchNormalization, Concatenate, LSTM, Bidirectional, Conv1D, MaxPooling1D, GlobalMaxPooling1D\n",
        "from tensorflow.keras.optimizers import Adadelta\n",
        "from tensorflow.keras.callbacks import EarlyStopping, ReduceLROnPlateau\n",
        "from sklearn.metrics import classification_report, f1_score, precision_score, recall_score, confusion_matrix\n",
        "import matplotlib.pyplot as plt\n",
        "import seaborn as sns\n",
        "import numpy as np\n",
        "import pickle\n",
        "from sklearn.preprocessing import LabelEncoder\n",
        "from tensorflow.keras.utils import to_categorical\n",
        "from sklearn.ensemble import RandomForestClassifier\n",
        "from sklearn.metrics import accuracy_score\n",
        "import numpy as np\n",
        "from tensorflow.keras.layers import Conv1D, MaxPooling1D, GlobalMaxPooling1D, Dense, Dropout, BatchNormalization, Input, Add, Activation, TimeDistributed # Import TimeDistributed\n",
        "from tensorflow.keras.models import Model\n",
        "from tensorflow.keras.callbacks import EarlyStopping, ReduceLROnPlateau\n",
        "import tensorflow as tf"
      ],
      "metadata": {
        "id": "qzPmWKlvVINc"
      },
      "execution_count": 2,
      "outputs": []
    },
    {
      "cell_type": "code",
      "source": [
        "base_path = '/content/drive//MyDrive/MELD/'\n",
        "\n",
        "\n",
        "# Bu dosyada, veri ve ilgili meta bilgileri (kelime haritası, kelime indeksi, maksimum cümle uzunluğu ve etiket indeksi) bulunuyor.\n",
        "data_path = base_path + 'data_emotion.p'\n",
        "with open(data_path, 'rb') as file:\n",
        "    data, W, word_idx_map, vocab, max_sentence_length, label_index = pickle.load(file)\n",
        "\n",
        "#data içindeki tüm girdiler flat_data_emotion listesine düzleştiriliyor.\n",
        "\n",
        "flat_data_emotion = [entry for entry in data]\n",
        "\n",
        "# Veriler, eğitim (train), doğrulama (val) ve test (test) kümeleri olarak ayrılıyor ve her bir kümenin boyutları yazdırılıyor.\n",
        "train_entries = [entry for entry in flat_data_emotion if entry['split'] == 'train']\n",
        "val_entries = [entry for entry in flat_data_emotion if entry['split'] == 'val']\n",
        "test_entries = [entry for entry in flat_data_emotion if entry['split'] == 'test']\n",
        "\n",
        "print(f\"Number of train entries: {len(train_entries)}\")\n",
        "print(f\"Number of val entries: {len(val_entries)}\")\n",
        "print(f\"Number of test entries: {len(test_entries)}\")\n",
        "\n",
        "# Encode labels\n",
        "#LabelEncoder kullanılarak etiketler sayısal değerlere kodlanıyor.\n",
        "#Kodlanan etiketler kategorik forma dönüştürülüyor (one-hot encoding).\n",
        "#Etiketlerin sayısal değerlere nasıl eşlendiği label_mapping değişkeninde tutuluyor ve yazdırılıyor.\n",
        "le = LabelEncoder()\n",
        "y_train = le.fit_transform([entry['y'] for entry in train_entries])\n",
        "y_val = le.transform([entry['y'] for entry in val_entries])\n",
        "y_test = le.transform([entry['y'] for entry in test_entries])\n",
        "\n",
        "y_train_categorical = to_categorical(y_train)\n",
        "y_val_categorical = to_categorical(y_val)\n",
        "y_test_categorical = to_categorical(y_test)\n",
        "\n",
        "label_mapping = dict(zip(le.classes_, le.transform(le.classes_)))\n",
        "\n",
        "with open(base_path + 'text_glove_average_emotion.pkl', 'rb') as file:\n",
        "    text_train, text_val, text_test = pickle.load(file)\n",
        "\n",
        "with open(base_path + 'audio_embeddings_feature_selection_emotion.pkl', 'rb') as file:\n",
        "    audio_train, audio_val, audio_test = pickle.load(file)\n",
        "\n",
        "# metin ve ses özellikleri hizalama\n",
        "def align_features(text_features, audio_features, data_entries, labels):\n",
        "    text_aligned = []\n",
        "    audio_aligned = []\n",
        "    aligned_labels = []\n",
        "    for entry, label in zip(data_entries, labels):\n",
        "        key = f\"{entry['dialog']}_{entry['utterance']}\"\n",
        "        if key in text_features and key in audio_features:\n",
        "            text_aligned.append(text_features[key])\n",
        "            audio_aligned.append(audio_features[key])\n",
        "            aligned_labels.append(label)\n",
        "    return np.array(text_aligned), np.array(audio_aligned), np.array(aligned_labels)\n",
        "\n",
        "text_train_aligned, audio_train_aligned, y_train_aligned = align_features(text_train, audio_train, train_entries, y_train)\n",
        "text_val_aligned, audio_val_aligned, y_val_aligned = align_features(text_val, audio_val, val_entries, y_val)\n",
        "text_test_aligned, audio_test_aligned, y_test_aligned = align_features(text_test, audio_test, test_entries, y_test)\n",
        "\n",
        "# Boyutları kontrol edelim\n",
        "print(f\"text_train_aligned shape: {text_train_aligned.shape}\")\n",
        "print(f\"audio_train_aligned shape: {audio_train_aligned.shape}\")\n",
        "\n",
        "print(f\"text_val_aligned shape: {text_val_aligned.shape}\")\n",
        "print(f\"audio_val_aligned shape: {audio_val_aligned.shape}\")\n",
        "\n",
        "print(f\"text_test_aligned shape: {text_test_aligned.shape}\")\n",
        "print(f\"audio_test_aligned shape: {audio_test_aligned.shape}\")\n",
        "\n",
        "print(f\"y_train_aligned shape: {y_train_aligned.shape}\")\n",
        "print(f\"y_val_aligned shape: {y_val_aligned.shape}\")\n",
        "print(f\"y_test_aligned shape: {y_test_aligned.shape}\")"
      ],
      "metadata": {
        "colab": {
          "base_uri": "https://localhost:8080/"
        },
        "id": "ff1Hd_ZmVKfH",
        "outputId": "5e822c76-aed9-4682-88d1-b87633356cbd"
      },
      "execution_count": 3,
      "outputs": [
        {
          "output_type": "stream",
          "name": "stdout",
          "text": [
            "Number of train entries: 9989\n",
            "Number of val entries: 1109\n",
            "Number of test entries: 2610\n",
            "text_train_aligned shape: (9989, 300)\n",
            "audio_train_aligned shape: (9989, 1611)\n",
            "text_val_aligned shape: (1109, 300)\n",
            "audio_val_aligned shape: (1109, 1611)\n",
            "text_test_aligned shape: (2610, 300)\n",
            "audio_test_aligned shape: (2610, 1611)\n",
            "y_train_aligned shape: (9989,)\n",
            "y_val_aligned shape: (1109,)\n",
            "y_test_aligned shape: (2610,)\n"
          ]
        }
      ]
    },
    {
      "cell_type": "markdown",
      "source": [
        "# PENCERELEME"
      ],
      "metadata": {
        "id": "CJZi_G_AVSGb"
      }
    },
    {
      "cell_type": "code",
      "source": [
        "# Pencere boyutu ve kaydırma adımı\n",
        "window_size = 5\n",
        "stride = 1\n",
        "\n",
        "def create_sliding_windows(data, window_size, stride):\n",
        "    num_windows = (data.shape[0] - window_size) // stride + 1\n",
        "    windows = []\n",
        "    for i in range(0, num_windows * stride, stride):\n",
        "        window = data[i:i+window_size]\n",
        "        windows.append(window)\n",
        "    return np.array(windows)\n",
        "\n",
        "def create_label_windows(labels, window_size, stride):\n",
        "    num_windows = (len(labels) - window_size) // stride + 1\n",
        "    windows = []\n",
        "    for i in range(0, num_windows * stride, stride):\n",
        "        window = labels[i:i+window_size]\n",
        "        windows.append(window[-1])  # Sadece son pencereyi kullan\n",
        "    return np.array(windows)\n",
        "\n",
        "# Metin ve ses verileri için kaydırma pencereleri oluşturma\n",
        "text_train_windows = create_sliding_windows(text_train_aligned, window_size, stride)\n",
        "audio_train_windows = create_sliding_windows(audio_train_aligned, window_size, stride)\n",
        "text_val_windows = create_sliding_windows(text_val_aligned, window_size, stride)\n",
        "audio_val_windows = create_sliding_windows(audio_val_aligned, window_size, stride)\n",
        "text_test_windows = create_sliding_windows(text_test_aligned, window_size, stride)\n",
        "audio_test_windows = create_sliding_windows(audio_test_aligned, window_size, stride)\n",
        "\n",
        "# Etiket pencerelerini oluşturma\n",
        "y_train_windows = create_label_windows(y_train_aligned, window_size, stride)\n",
        "y_val_windows = create_label_windows(y_val_aligned, window_size, stride)\n",
        "y_test_windows = create_label_windows(y_test_aligned, window_size, stride)\n",
        "\n",
        "# Etiketleri kategorik hale getirme\n",
        "y_train_categorical = to_categorical(y_train_windows)\n",
        "y_val_categorical = to_categorical(y_val_windows)\n",
        "y_test_categorical = to_categorical(y_test_windows)\n",
        "\n",
        "# Boyutları kontrol etme\n",
        "print(f\"text_train_windows shape: {text_train_windows.shape}\")\n",
        "print(f\"audio_train_windows shape: {audio_train_windows.shape}\")\n",
        "print(f\"text_val_windows shape: {text_val_windows.shape}\")\n",
        "print(f\"audio_val_windows shape: {audio_val_windows.shape}\")\n",
        "print(f\"text_test_windows shape: {text_test_windows.shape}\")\n",
        "print(f\"audio_test_windows shape: {audio_test_windows.shape}\")\n",
        "\n",
        "print(f\"y_train_windows shape: {y_train_windows.shape}\")\n",
        "print(f\"y_val_windows shape: {y_val_windows.shape}\")\n",
        "print(f\"y_test_windows shape: {y_test_windows.shape}\")"
      ],
      "metadata": {
        "colab": {
          "base_uri": "https://localhost:8080/"
        },
        "id": "x6xA4KG8VUj8",
        "outputId": "0703d0b4-ce02-482e-b144-497f3c4147c2"
      },
      "execution_count": 4,
      "outputs": [
        {
          "output_type": "stream",
          "name": "stdout",
          "text": [
            "text_train_windows shape: (9985, 5, 300)\n",
            "audio_train_windows shape: (9985, 5, 1611)\n",
            "text_val_windows shape: (1105, 5, 300)\n",
            "audio_val_windows shape: (1105, 5, 1611)\n",
            "text_test_windows shape: (2606, 5, 300)\n",
            "audio_test_windows shape: (2606, 5, 1611)\n",
            "y_train_windows shape: (9985,)\n",
            "y_val_windows shape: (1105,)\n",
            "y_test_windows shape: (2606,)\n"
          ]
        }
      ]
    }
  ]
}